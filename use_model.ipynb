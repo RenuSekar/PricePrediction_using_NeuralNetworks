{
 "cells": [
  {
   "cell_type": "code",
   "execution_count": 4,
   "id": "fa05fd9b-f0d4-424e-b26a-84061373d608",
   "metadata": {},
   "outputs": [],
   "source": [
    "from tensorflow.keras.models import load_model\n",
    "import joblib"
   ]
  },
  {
   "cell_type": "code",
   "execution_count": 6,
   "id": "4567d949-f08e-48f5-872c-ca833799d415",
   "metadata": {},
   "outputs": [
    {
     "name": "stderr",
     "output_type": "stream",
     "text": [
      "WARNING:absl:Compiled the loaded model, but the compiled metrics have yet to be built. `model.compile_metrics` will be empty until you train or evaluate the model.\n"
     ]
    }
   ],
   "source": [
    "model = load_model('house_value_model.h5')"
   ]
  },
  {
   "cell_type": "code",
   "execution_count": 8,
   "id": "37a41777-0c20-4f3f-a36e-c9fe8a9165ae",
   "metadata": {},
   "outputs": [],
   "source": [
    "x_scaler = joblib.load('x_scaler.pkl')\n",
    "y_scaler = joblib.load('y_scaler.pkl')"
   ]
  },
  {
   "cell_type": "code",
   "execution_count": 10,
   "id": "86bd22d2-7b8d-494b-a8db-2229017c8601",
   "metadata": {},
   "outputs": [],
   "source": [
    "house_1 = [2000,3,2]"
   ]
  },
  {
   "cell_type": "code",
   "execution_count": 12,
   "id": "78c6f95a-f564-4b18-9fb1-1646245ca191",
   "metadata": {},
   "outputs": [],
   "source": [
    "homes = [house_1]"
   ]
  },
  {
   "cell_type": "code",
   "execution_count": 16,
   "id": "a45cad83-23a0-49a2-bb53-92a93ede411b",
   "metadata": {},
   "outputs": [
    {
     "name": "stderr",
     "output_type": "stream",
     "text": [
      "C:\\Users\\renu4\\anaconda3\\Lib\\site-packages\\sklearn\\base.py:493: UserWarning: X does not have valid feature names, but MinMaxScaler was fitted with feature names\n",
      "  warnings.warn(\n"
     ]
    },
    {
     "data": {
      "text/plain": [
       "array([[0.16666667, 0.25      , 0.33333333]])"
      ]
     },
     "execution_count": 16,
     "metadata": {},
     "output_type": "execute_result"
    }
   ],
   "source": [
    "scaled_home_data = x_scaler.transform(homes)\n",
    "scaled_home_data"
   ]
  },
  {
   "cell_type": "code",
   "execution_count": 18,
   "id": "4205c853-6159-4c6c-9484-404ed3da01ed",
   "metadata": {},
   "outputs": [
    {
     "name": "stdout",
     "output_type": "stream",
     "text": [
      "\u001b[1m1/1\u001b[0m \u001b[32m━━━━━━━━━━━━━━━━━━━━\u001b[0m\u001b[37m\u001b[0m \u001b[1m0s\u001b[0m 53ms/step\n"
     ]
    }
   ],
   "source": [
    "home_values = model.predict(scaled_home_data)"
   ]
  },
  {
   "cell_type": "code",
   "execution_count": 24,
   "id": "e0e68a3d-de2b-4aa0-8f33-38b8b4324e9d",
   "metadata": {},
   "outputs": [
    {
     "data": {
      "text/plain": [
       "array([[386247.1]], dtype=float32)"
      ]
     },
     "execution_count": 24,
     "metadata": {},
     "output_type": "execute_result"
    }
   ],
   "source": [
    "unscaled_home_values = y_scaler.inverse_transform(home_values)\n",
    "unscaled_home_values"
   ]
  },
  {
   "cell_type": "code",
   "execution_count": null,
   "id": "158b6407-7125-4aae-86b1-e829a16a2b01",
   "metadata": {},
   "outputs": [],
   "source": []
  }
 ],
 "metadata": {
  "kernelspec": {
   "display_name": "Python 3 (ipykernel)",
   "language": "python",
   "name": "python3"
  },
  "language_info": {
   "codemirror_mode": {
    "name": "ipython",
    "version": 3
   },
   "file_extension": ".py",
   "mimetype": "text/x-python",
   "name": "python",
   "nbconvert_exporter": "python",
   "pygments_lexer": "ipython3",
   "version": "3.12.4"
  }
 },
 "nbformat": 4,
 "nbformat_minor": 5
}
